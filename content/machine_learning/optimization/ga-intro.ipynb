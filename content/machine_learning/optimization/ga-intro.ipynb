{
 "cells": [
  {
   "cell_type": "markdown",
   "metadata": {},
   "source": [
    "---\n",
    "title: \"First Genetic Algorithm\"\n",
    "author: \"Eric Peña\"\n",
    "date: 2020-04-14T00:00:00-00:00\n",
    "description: \"Logistic Map\"\n",
    "type: technical_note\n",
    "draft: false\n",
    "---"
   ]
  },
  {
   "cell_type": "markdown",
   "metadata": {},
   "source": [
    "# What is a Genetic Algorithm\n",
    "Evolutionary programming is a family of global optimization techniques that are biologically inspired. It works similarly to the natural process in evolutionary biology. Trial and error is a large component along with stochasticity and survival of the fittest. The type of evolutionary computation that we will focus on is genetic algorithms which became popular by the American Professor of Psychology, Electrical Engineering, and Computer Science, John Holland. Genetic algorithms work using natural selection of different possible solutions competing with one another. It incorporates biological concepts such as selection, crossover, and mutation. Candidate solutions can mate with each other and create offspring who can then compete with other solutions in their generation."
   ]
  },
  {
   "cell_type": "markdown",
   "metadata": {},
   "source": [
    "# Components of a Genetic Algorithm\n",
    "* Gene\n",
    "* Chromosome\n",
    "* Population\n",
    "* Fitness Function\n",
    "* Selection\n",
    "* Crossover\n",
    "* Mutation"
   ]
  },
  {
   "cell_type": "markdown",
   "metadata": {},
   "source": [
    "# Programming Genetic Algorithms in Python\n",
    "It's typical to use object oriented programming when developing Genetic Algorithms in code. In our simple example, let's create a class called `Agent`. In the language of GA, these are called the *chromosome*. This chromosome will simply be a string in our program but I'd recommend always thinking in terms of GA and the termology used in this domain. If the text string represents a chromosome, then the characters that make up this string are its *genes*. Below is an example of a simple genetic algorithm that will be given the task of finding the string: `ericpena`. The algorithm is broken up into distrinct methods for clarity."
   ]
  },
  {
   "cell_type": "code",
   "execution_count": 1,
   "metadata": {},
   "outputs": [],
   "source": [
    "from fuzzywuzzy import fuzz\n",
    "import random\n",
    "import string\n",
    "\n",
    "class Agent:\n",
    "\n",
    "\tdef __init__(self, length):\n",
    "\n",
    "\t\t# Initialize a new agent\n",
    "\t\tself.string = ''.join(random.choice(string.ascii_letters) for _ in range(length))\n",
    "\t\tself.fitness = -1\n",
    "\n",
    "\tdef __str__(self):\n",
    "\n",
    "\t\treturn 'String: ' + str(self.string) + ' Fitness: ' + str(self.fitness)"
   ]
  },
  {
   "cell_type": "markdown",
   "metadata": {},
   "source": [
    "# Initialize Population"
   ]
  },
  {
   "cell_type": "code",
   "execution_count": 9,
   "metadata": {},
   "outputs": [],
   "source": [
    "in_str = None\n",
    "in_str_len = None\n",
    "population = 20\n",
    "generations = 2500\n",
    "\n",
    "def init_agents(population, length):\n",
    "\n",
    "\treturn [Agent(length) for _ in range(population)]"
   ]
  },
  {
   "cell_type": "markdown",
   "metadata": {},
   "source": [
    "# Define Fitness Function"
   ]
  },
  {
   "cell_type": "code",
   "execution_count": 3,
   "metadata": {},
   "outputs": [],
   "source": [
    "def fitness(agents):\n",
    "\n",
    "\tfor agent in agents:\n",
    "\n",
    "\t\tagent.fitness = fuzz.ratio(agent.string, in_str)\n",
    "\n",
    "\treturn agents"
   ]
  },
  {
   "cell_type": "markdown",
   "metadata": {},
   "source": [
    "# Define Selection Criteria"
   ]
  },
  {
   "cell_type": "code",
   "execution_count": 4,
   "metadata": {},
   "outputs": [],
   "source": [
    "def selection(agents):\n",
    "\n",
    "\tagents = sorted(agents, key=lambda agent: agent.fitness, reverse=True)\n",
    "\tprint('\\n'.join(map(str, agents)))\n",
    "\tagents = agents[:int(0.2 * len(agents))]\n",
    "\n",
    "\treturn agents"
   ]
  },
  {
   "cell_type": "markdown",
   "metadata": {},
   "source": [
    "# Define Crossover Mechanism"
   ]
  },
  {
   "cell_type": "code",
   "execution_count": 5,
   "metadata": {},
   "outputs": [],
   "source": [
    "def crossover(agents):\n",
    "\n",
    "\toffspring = []\n",
    "\n",
    "\tfor _ in range(int((population - len(agents)) / 2)):\n",
    "\n",
    "\t\tparent1 = random.choice(agents)\n",
    "\t\tparent2 = random.choice(agents)\n",
    "\t\tchild1 = Agent(in_str_len)\n",
    "\t\tchild2 = Agent(in_str_len)\n",
    "\t\tsplit = random.randint(0, in_str_len)\n",
    "\t\tchild1.string = parent1.string[0:split] + parent2.string[split:in_str_len]\n",
    "\t\tchild2.string = parent2.string[0:split] + parent1.string[split:in_str_len]\n",
    "\n",
    "\t\toffspring.append(child1)\n",
    "\t\toffspring.append(child2)\n",
    "\n",
    "\tagents.extend(offspring)\n",
    "\n",
    "\treturn agents"
   ]
  },
  {
   "cell_type": "markdown",
   "metadata": {},
   "source": [
    "# Define GA Mutation"
   ]
  },
  {
   "cell_type": "code",
   "execution_count": 6,
   "metadata": {},
   "outputs": [],
   "source": [
    "def mutation(agents):\n",
    "\n",
    "\tfor agent in agents:\n",
    "\n",
    "\t\tfor idx, param in enumerate(agent.string):\n",
    "\n",
    "\t\t\tif random.uniform(0.0, 1.0) <= 0.1:\n",
    "\n",
    "\t\t\t\tagent.string = agent.string[0:idx] + \\\n",
    "\t\t\t\t\trandom.choice(string.ascii_letters) + \\\n",
    "\t\t\t\t\tagent.string[idx + 1:in_str_len]\n",
    "\n",
    "\treturn agents"
   ]
  },
  {
   "cell_type": "markdown",
   "metadata": {},
   "source": [
    "# Running GA"
   ]
  },
  {
   "cell_type": "code",
   "execution_count": 7,
   "metadata": {},
   "outputs": [],
   "source": [
    "def ga():\n",
    "\t\n",
    "\tagents = init_agents(population, in_str_len)\n",
    "\n",
    "\tfor generation in range(generations):\n",
    "\n",
    "\t\tprint('Generation: ' + str(generation))\n",
    "\n",
    "\t\tagents = fitness(agents)\n",
    "\t\tagents = selection(agents)\n",
    "\t\tagents = crossover(agents)\n",
    "\t\tagents = mutation(agents)\n",
    "\n",
    "\t\tif any(agent.fitness >= 90 for agent in agents):\n",
    "\n",
    "\t\t\tprint('Threshold met!')\n",
    "\t\t\texit(0)"
   ]
  },
  {
   "cell_type": "code",
   "execution_count": null,
   "metadata": {},
   "outputs": [],
   "source": [
    "if __name__ == '__main__':\n",
    "\t\n",
    "\tin_str = 'ericpena'\n",
    "\tin_str_len = len(in_str)\n",
    "\tga()"
   ]
  },
  {
   "cell_type": "markdown",
   "metadata": {},
   "source": [
    "# Results\n",
    "* Generation 0 — String: CKvOGQJL Fitness: 0\n",
    "* Generation 3 — String: iJdvcmeX Fitness: 38\n",
    "* Generation 11 — String: iJOqcmea Fitness: 50\n",
    "* Generation 85 — String: evXicpea Fitness: 75\n",
    "* Generation 299 — String: esricena Fitness: 88\n",
    "\n",
    "As can be seen, the longer we allow this Genetic Algorithm to run, the closer the solution gets to the *objective string*: `ericpena`"
   ]
  }
 ],
 "metadata": {
  "kernelspec": {
   "display_name": "Python 3",
   "language": "python",
   "name": "python3"
  },
  "language_info": {
   "codemirror_mode": {
    "name": "ipython",
    "version": 3
   },
   "file_extension": ".py",
   "mimetype": "text/x-python",
   "name": "python",
   "nbconvert_exporter": "python",
   "pygments_lexer": "ipython3",
   "version": "3.7.9"
  }
 },
 "nbformat": 4,
 "nbformat_minor": 4
}
